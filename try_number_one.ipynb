{
 "metadata": {
  "name": ""
 },
 "nbformat": 3,
 "nbformat_minor": 0,
 "worksheets": [
  {
   "cells": [
    {
     "cell_type": "code",
     "collapsed": false,
     "input": [
      "def fuzz_by_whitespace(text):\n",
      "    characters = [x for x in text]\n",
      "    total_num_spaces = len(characters) #it's -2 because we leave off the ends\n",
      "    records = []\n",
      "    for iteration in xrange(total_num_spaces):\n",
      "        for num_whitespace in xrange(total_num_spaces):\n",
      "            greater_record = []\n",
      "            lesser_record = []\n",
      "            for ind,elem in enumerate(characters):\n",
      "                if iteration == 0:\n",
      "                    if not ind == 0:\n",
      "                        greater_record.append(' ')\n",
      "                    greater_record.append(elem)\n",
      "                    \n",
      "                else:\n",
      "                    if ind > num_whitespace:\n",
      "                        if ind != 0:\n",
      "                            greater_record.append(' ')\n",
      "                    greater_record.append(elem)\n",
      "                    if ind < num_whitespace:\n",
      "                        if ind != 0:\n",
      "                            lesser_record.append(' ')\n",
      "                    lesser_record.append(elem)\n",
      "            if greater_record != []:\n",
      "                records.append(greater_record)\n",
      "            if lesser_record != []:\n",
      "                records.append(lesser_record)\n",
      "    \n",
      "    final = []\n",
      "    for i in records:\n",
      "        if not i in final:\n",
      "            final.append(i)\n",
      "    return final\n",
      "\n",
      "for i in fuzz_by_whitespace(\"Hello\"):\n",
      "    print i\n"
     ],
     "language": "python",
     "metadata": {},
     "outputs": [
      {
       "output_type": "stream",
       "stream": "stdout",
       "text": [
        "['H', ' ', 'e', ' ', 'l', ' ', 'l', ' ', 'o']\n",
        "['H', 'e', 'l', 'l', 'o']\n",
        "['H', 'e', ' ', 'l', ' ', 'l', ' ', 'o']\n",
        "['H', 'e', 'l', ' ', 'l', ' ', 'o']\n",
        "['H', ' ', 'e', 'l', 'l', 'o']\n",
        "['H', 'e', 'l', 'l', ' ', 'o']\n",
        "['H', ' ', 'e', ' ', 'l', 'l', 'o']\n",
        "['H', ' ', 'e', ' ', 'l', ' ', 'l', 'o']\n"
       ]
      }
     ],
     "prompt_number": 26
    },
    {
     "cell_type": "code",
     "collapsed": false,
     "input": [],
     "language": "python",
     "metadata": {},
     "outputs": []
    }
   ],
   "metadata": {}
  }
 ]
}