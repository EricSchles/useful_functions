{
 "metadata": {
  "name": ""
 },
 "nbformat": 3,
 "nbformat_minor": 0,
 "worksheets": [
  {
   "cells": [
    {
     "cell_type": "code",
     "collapsed": false,
     "input": [
      "def fuzz_by_whitespace(text):\n",
      "    \"\"\"\n",
      "    algorithm:\n",
      "    start with the original string\n",
      "    add spaces between each letter\n",
      "    start at the last space and remove them one by one\n",
      "    then decrease the number of spaces by one from the front and repeat previous step\n",
      "    remove any duplicates along the way\n",
      "    \"\"\"\n",
      "    characters = [x for x in text]\n",
      "    original_num_spaces = characters.count(' ')\n",
      "    total_num_spaces = len(characters) #it's -2 because we leave off the ends\n",
      "    full_spaces = []\n",
      "    records = []\n",
      "    \n",
      "    for ind,elem in enumerate(characters):\n",
      "        if ind != 0:\n",
      "            full_spaces.append(' ')\n",
      "        full_spaces.append(elem)\n",
      "    records.append(full_spaces)\n",
      "    text = full_spaces[:]\n",
      "    while text.count(' ') > original_num_spaces:\n",
      "        tmp = text\n",
      "        while tmp.count(' ') > original_num_spaces:\n",
      "            tmp = remove_last_space(tmp)\n",
      "            records.append(tmp)\n",
      "        text = remove_first_space(text)\n",
      "    return records\n",
      "\n",
      "def remove_first_space(text):\n",
      "    text = ''.join(text)\n",
      "    kth = text.find(\" \")\n",
      "    new_text = text[:kth] + text[kth+1:]\n",
      "    return [x for x in new_text]\n",
      "\n",
      "def remove_last_space(text):\n",
      "    text = ''.join(text)\n",
      "    kth = text.rfind(\" \")\n",
      "    new_text = text[:kth] + text[kth+1:]\n",
      "    return [x for x in new_text]\n",
      "\n",
      "fuzz_by_whitespace(\"Hello\")"
     ],
     "language": "python",
     "metadata": {},
     "outputs": [
      {
       "ename": "KeyboardInterrupt",
       "evalue": "",
       "output_type": "pyerr",
       "traceback": [
        "\u001b[0;31m---------------------------------------------------------------------------\u001b[0m\n\u001b[0;31mKeyboardInterrupt\u001b[0m                         Traceback (most recent call last)",
        "\u001b[0;32m<ipython-input-13-476c75432756>\u001b[0m in \u001b[0;36m<module>\u001b[0;34m()\u001b[0m\n\u001b[1;32m     40\u001b[0m     \u001b[0;32mreturn\u001b[0m \u001b[0;34m[\u001b[0m\u001b[0mx\u001b[0m \u001b[0;32mfor\u001b[0m \u001b[0mx\u001b[0m \u001b[0;32min\u001b[0m \u001b[0mnew_text\u001b[0m\u001b[0;34m]\u001b[0m\u001b[0;34m\u001b[0m\u001b[0m\n\u001b[1;32m     41\u001b[0m \u001b[0;34m\u001b[0m\u001b[0m\n\u001b[0;32m---> 42\u001b[0;31m \u001b[0mfuzz_by_whitespace\u001b[0m\u001b[0;34m(\u001b[0m\u001b[0;34m\"Hello\"\u001b[0m\u001b[0;34m)\u001b[0m\u001b[0;34m\u001b[0m\u001b[0m\n\u001b[0m",
        "\u001b[0;32m<ipython-input-13-476c75432756>\u001b[0m in \u001b[0;36mfuzz_by_whitespace\u001b[0;34m(text)\u001b[0m\n\u001b[1;32m     22\u001b[0m     \u001b[0;32mwhile\u001b[0m \u001b[0mtext\u001b[0m\u001b[0;34m.\u001b[0m\u001b[0mcount\u001b[0m\u001b[0;34m(\u001b[0m\u001b[0;34m' '\u001b[0m\u001b[0;34m)\u001b[0m \u001b[0;34m>=\u001b[0m \u001b[0moriginal_num_spaces\u001b[0m\u001b[0;34m:\u001b[0m\u001b[0;34m\u001b[0m\u001b[0m\n\u001b[1;32m     23\u001b[0m         \u001b[0mtmp\u001b[0m \u001b[0;34m=\u001b[0m \u001b[0mtext\u001b[0m\u001b[0;34m\u001b[0m\u001b[0m\n\u001b[0;32m---> 24\u001b[0;31m         \u001b[0;32mwhile\u001b[0m \u001b[0mtmp\u001b[0m\u001b[0;34m.\u001b[0m\u001b[0mcount\u001b[0m\u001b[0;34m(\u001b[0m\u001b[0;34m' '\u001b[0m\u001b[0;34m)\u001b[0m \u001b[0;34m>\u001b[0m \u001b[0moriginal_num_spaces\u001b[0m\u001b[0;34m:\u001b[0m\u001b[0;34m\u001b[0m\u001b[0m\n\u001b[0m\u001b[1;32m     25\u001b[0m             \u001b[0mtmp\u001b[0m \u001b[0;34m=\u001b[0m \u001b[0mremove_last_space\u001b[0m\u001b[0;34m(\u001b[0m\u001b[0mtmp\u001b[0m\u001b[0;34m)\u001b[0m\u001b[0;34m\u001b[0m\u001b[0m\n\u001b[1;32m     26\u001b[0m             \u001b[0mrecords\u001b[0m\u001b[0;34m.\u001b[0m\u001b[0mappend\u001b[0m\u001b[0;34m(\u001b[0m\u001b[0mtmp\u001b[0m\u001b[0;34m)\u001b[0m\u001b[0;34m\u001b[0m\u001b[0m\n",
        "\u001b[0;31mKeyboardInterrupt\u001b[0m: "
       ]
      }
     ],
     "prompt_number": 13
    }
   ],
   "metadata": {}
  }
 ]
}